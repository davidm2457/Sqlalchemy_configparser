{
 "cells": [
  {
   "cell_type": "code",
   "execution_count": 1,
   "id": "8c371c99",
   "metadata": {},
   "outputs": [],
   "source": [
    "# Import packages\n",
    "import pandas as pd\n",
    "import numpy as np\n",
    "import configparser\n",
    "from sqlalchemy import create_engine"
   ]
  },
  {
   "cell_type": "code",
   "execution_count": 2,
   "id": "7ddd7d65",
   "metadata": {},
   "outputs": [
    {
     "data": {
      "text/plain": [
       "['practice.ini']"
      ]
     },
     "execution_count": 2,
     "metadata": {},
     "output_type": "execute_result"
    }
   ],
   "source": [
    "# Read configuration file...practice.ini has user, password, host, and database\n",
    "config = configparser.ConfigParser()\n",
    "config.read('practice.ini')"
   ]
  },
  {
   "cell_type": "code",
   "execution_count": 3,
   "id": "e5638dad",
   "metadata": {},
   "outputs": [],
   "source": [
    "# Get database connection details\n",
    "user = config.get('database', 'user')\n",
    "password = config.get('database', 'password')\n",
    "host = config.get('database', 'host')\n",
    "database = config.get('database', 'database')"
   ]
  },
  {
   "cell_type": "code",
   "execution_count": 4,
   "id": "6fe8b436",
   "metadata": {},
   "outputs": [],
   "source": [
    "# Create connection engine to the database\n",
    "engine = create_engine(f'mysql+mysqlconnector://{user}:{password}@{host}/{database}')"
   ]
  },
  {
   "cell_type": "code",
   "execution_count": 5,
   "id": "20f96c5e",
   "metadata": {},
   "outputs": [],
   "source": [
    "# Query to select data from database\n",
    "query = 'SELECT * FROM Movies'"
   ]
  },
  {
   "cell_type": "code",
   "execution_count": 6,
   "id": "2277018f",
   "metadata": {},
   "outputs": [],
   "source": [
    "# Read the data from database into a pandas df\n",
    "pd.set_option('display.max_columns', None)\n",
    "df = df = pd.read_sql_query(query, engine)"
   ]
  },
  {
   "cell_type": "code",
   "execution_count": 12,
   "id": "8066691a",
   "metadata": {},
   "outputs": [
    {
     "name": "stdout",
     "output_type": "stream",
     "text": [
      "<class 'pandas.core.frame.DataFrame'>\n",
      "RangeIndex: 508 entries, 0 to 507\n",
      "Data columns (total 13 columns):\n",
      " #   Column         Non-Null Count  Dtype         \n",
      "---  ------         --------------  -----         \n",
      " 0   Movie Title    508 non-null    object        \n",
      " 1   Release Date   508 non-null    datetime64[ns]\n",
      " 2   Wikipedia URL  508 non-null    object        \n",
      " 3   Genre          508 non-null    object        \n",
      " 4   Director (1)   508 non-null    object        \n",
      " 5   Director (2)   508 non-null    object        \n",
      " 6   Cast (1)       508 non-null    object        \n",
      " 7   Cast (2)       508 non-null    object        \n",
      " 8   Cast (3)       508 non-null    object        \n",
      " 9   Cast (4)       508 non-null    object        \n",
      " 10  Cast (5)       508 non-null    object        \n",
      " 11  Budget         0 non-null      object        \n",
      " 12  Revenue        0 non-null      object        \n",
      "dtypes: datetime64[ns](1), object(12)\n",
      "memory usage: 51.7+ KB\n"
     ]
    }
   ],
   "source": [
    "df.info()"
   ]
  },
  {
   "cell_type": "code",
   "execution_count": null,
   "id": "7475b462",
   "metadata": {},
   "outputs": [],
   "source": []
  }
 ],
 "metadata": {
  "kernelspec": {
   "display_name": "Python 3 (ipykernel)",
   "language": "python",
   "name": "python3"
  },
  "language_info": {
   "codemirror_mode": {
    "name": "ipython",
    "version": 3
   },
   "file_extension": ".py",
   "mimetype": "text/x-python",
   "name": "python",
   "nbconvert_exporter": "python",
   "pygments_lexer": "ipython3",
   "version": "3.10.9"
  }
 },
 "nbformat": 4,
 "nbformat_minor": 5
}
